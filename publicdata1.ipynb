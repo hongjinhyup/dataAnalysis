{
 "cells": [
  {
   "cell_type": "code",
   "execution_count": 5,
   "id": "31de821a-49af-4521-b2ba-e5768502bf0f",
   "metadata": {},
   "outputs": [],
   "source": [
    "import urllib.request"
   ]
  },
  {
   "cell_type": "code",
   "execution_count": 7,
   "id": "53ecfdf3-7238-4fec-b988-7c0b20846b7d",
   "metadata": {},
   "outputs": [],
   "source": [
    "from bs4 import BeautifulSoup"
   ]
  },
  {
   "cell_type": "code",
   "execution_count": 9,
   "id": "f96b7339-6837-4074-a2f4-e386c92b0eda",
   "metadata": {},
   "outputs": [],
   "source": [
    "siteurl = 'https://openapi.gg.go.kr/TfcacdStat'"
   ]
  },
  {
   "cell_type": "code",
   "execution_count": 10,
   "id": "ad2a0893-b6f7-4147-ac9f-dc988b04a97c",
   "metadata": {},
   "outputs": [],
   "source": [
    "request = urllib.request.Request(siteurl)"
   ]
  },
  {
   "cell_type": "code",
   "execution_count": 24,
   "id": "589bad57-29ed-4d9d-a84e-ea03b4e47094",
   "metadata": {},
   "outputs": [],
   "source": [
    "response = urllib.request.urlopen(request)"
   ]
  },
  {
   "cell_type": "code",
   "execution_count": 20,
   "id": "c95af595-8646-42cb-98c4-a89e08073047",
   "metadata": {},
   "outputs": [
    {
     "name": "stdout",
     "output_type": "stream",
     "text": [
      "웹 크롤링 성공\n"
     ]
    }
   ],
   "source": [
    "if response.getcode() != 200:   # 200 일 경우에 성공\n",
    "  print(\"허걱!!!\")\n",
    "else:\n",
    "  print(\"웹 크롤링 성공\")"
   ]
  },
  {
   "cell_type": "code",
   "execution_count": 25,
   "id": "cd032c85-3214-4a6e-b356-2a98498d023c",
   "metadata": {
    "collapsed": true,
    "jupyter": {
     "outputs_hidden": true
    },
    "tags": []
   },
   "outputs": [
    {
     "name": "stdout",
     "output_type": "stream",
     "text": [
      "<?xml version=\"1.0\" encoding=\"UTF-8\"?>\n",
      "\n",
      "<TfcacdStat>\n",
      "  <head>\n",
      "    <list_total_count>155</list_total_count>\n",
      "    <RESULT>\n",
      "      <CODE>INFO-000</CODE>\n",
      "      <MESSAGE>정상 처리되었습니다.</MESSAGE>\n",
      "    </RESULT>\n",
      "    <api_version>1.0v</api_version>\n",
      "  </head>\n",
      "  <row>\n",
      "    <SIGUN_NM>수원시</SIGUN_NM>\n",
      "    <SIGUN_CD>41110</SIGUN_CD>\n",
      "    <SUM_YY>2018</SUM_YY>\n",
      "    <OCCUR_CNT>4997</OCCUR_CNT>\n",
      "    <DPRS_CNT>39</DPRS_CNT>\n",
      "    <INJPSN_CNT>7148</INJPSN_CNT>\n",
      "    <DATA_STD_DE></DATA_STD_DE>\n",
      "  </row>\n",
      "  <row>\n",
      "    <SIGUN_NM>고양시</SIGUN_NM>\n",
      "    <SIGUN_CD>41280</SIGUN_CD>\n",
      "    <SUM_YY>2018</SUM_YY>\n",
      "    <OCCUR_CNT>3950</OCCUR_CNT>\n",
      "    <DPRS_CNT>38</DPRS_CNT>\n",
      "    <INJPSN_CNT>5889</INJPSN_CNT>\n",
      "    <DATA_STD_DE></DATA_STD_DE>\n",
      "  </row>\n",
      "  <row>\n",
      "    <SIGUN_NM>용인시</SIGUN_NM>\n",
      "    <SIGUN_CD>41460</SIGUN_CD>\n",
      "    <SUM_YY>2018</SUM_YY>\n",
      "    <OCCUR_CNT>3205</OCCUR_CNT>\n",
      "    <DPRS_CNT>37</DPRS_CNT>\n",
      "    <INJPSN_CNT>5116</INJPSN_CNT>\n",
      "    <DATA_STD_DE></DATA_STD_DE>\n",
      "  </row>\n",
      "  <row>\n",
      "    <SIGUN_NM>성남시</SIGUN_NM>\n",
      "    <SIGUN_CD>41130</SIGUN_CD>\n",
      "    <SUM_YY>2018</SUM_YY>\n",
      "    <OCCUR_CNT>3834</OCCUR_CNT>\n",
      "    <DPRS_CNT>37</DPRS_CNT>\n",
      "    <INJPSN_CNT>5635</INJPSN_CNT>\n",
      "    <DATA_STD_DE></DATA_STD_DE>\n",
      "  </row>\n",
      "  <row>\n",
      "    <SIGUN_NM>부천시</SIGUN_NM>\n",
      "    <SIGUN_CD>41190</SIGUN_CD>\n",
      "    <SUM_YY>2018</SUM_YY>\n",
      "    <OCCUR_CNT>3236</OCCUR_CNT>\n",
      "    <DPRS_CNT>22</DPRS_CNT>\n",
      "    <INJPSN_CNT>4550</INJPSN_CNT>\n",
      "    <DATA_STD_DE></DATA_STD_DE>\n",
      "  </row>\n",
      "</TfcacdStat>\n",
      "\n",
      "\n"
     ]
    }
   ],
   "source": [
    "result = response.read().decode('utf-8')\n",
    "print(result)"
   ]
  },
  {
   "cell_type": "code",
   "execution_count": 28,
   "id": "ee5597a0-7c1e-4a9d-9524-048bec1b9086",
   "metadata": {
    "tags": []
   },
   "outputs": [
    {
     "name": "stdout",
     "output_type": "stream",
     "text": [
      "<?xml version=\"1.0\" encoding=\"UTF-8\"?>\n",
      "<tfcacdstat>\n",
      "<head>\n",
      "<list_total_count>155</list_total_count>\n",
      "<result>\n",
      "<code>INFO-000</code>\n",
      "<message>정상 처리되었습니다.</message>\n",
      "</result>\n",
      "<api_version>1.0v</api_version>\n",
      "</head>\n",
      "<row>\n",
      "<sigun_nm>수원시</sigun_nm>\n",
      "<sigun_cd>41110</sigun_cd>\n",
      "<sum_yy>2018</sum_yy>\n",
      "<occur_cnt>4997</occur_cnt>\n",
      "<dprs_cnt>39</dprs_cnt>\n",
      "<injpsn_cnt>7148</injpsn_cnt>\n",
      "<data_std_de></data_std_de>\n",
      "</row>\n",
      "<row>\n",
      "<sigun_nm>고양시</sigun_nm>\n",
      "<sigun_cd>41280</sigun_cd>\n",
      "<sum_yy>2018</sum_yy>\n",
      "<occur_cnt>3950</occur_cnt>\n",
      "<dprs_cnt>38</dprs_cnt>\n",
      "<injpsn_cnt>5889</injpsn_cnt>\n",
      "<data_std_de></data_std_de>\n",
      "</row>\n",
      "<row>\n",
      "<sigun_nm>용인시</sigun_nm>\n",
      "<sigun_cd>41460</sigun_cd>\n",
      "<sum_yy>2018</sum_yy>\n",
      "<occur_cnt>3205</occur_cnt>\n",
      "<dprs_cnt>37</dprs_cnt>\n",
      "<injpsn_cnt>5116</injpsn_cnt>\n",
      "<data_std_de></data_std_de>\n",
      "</row>\n",
      "<row>\n",
      "<sigun_nm>성남시</sigun_nm>\n",
      "<sigun_cd>41130</sigun_cd>\n",
      "<sum_yy>2018</sum_yy>\n",
      "<occur_cnt>3834</occur_cnt>\n",
      "<dprs_cnt>37</dprs_cnt>\n",
      "<injpsn_cnt>5635</injpsn_cnt>\n",
      "<data_std_de></data_std_de>\n",
      "</row>\n",
      "<row>\n",
      "<sigun_nm>부천시</sigun_nm>\n",
      "<sigun_cd>41190</sigun_cd>\n",
      "<sum_yy>2018</sum_yy>\n",
      "<occur_cnt>3236</occur_cnt>\n",
      "<dprs_cnt>22</dprs_cnt>\n",
      "<injpsn_cnt>4550</injpsn_cnt>\n",
      "<data_std_de></data_std_de>\n",
      "</row>\n",
      "</tfcacdstat>\n",
      "\n"
     ]
    }
   ],
   "source": [
    "hdoc = BeautifulSoup(result, 'html.parser')\n",
    "print(hdoc)"
   ]
  },
  {
   "cell_type": "code",
   "execution_count": 33,
   "id": "b1379c1d-4b7b-49ba-859e-3c442d56caaa",
   "metadata": {},
   "outputs": [
    {
     "name": "stdout",
     "output_type": "stream",
     "text": [
      "[<row>\n",
      "<sigun_nm>수원시</sigun_nm>\n",
      "<sigun_cd>41110</sigun_cd>\n",
      "<sum_yy>2018</sum_yy>\n",
      "<occur_cnt>4997</occur_cnt>\n",
      "<dprs_cnt>39</dprs_cnt>\n",
      "<injpsn_cnt>7148</injpsn_cnt>\n",
      "<data_std_de></data_std_de>\n",
      "</row>, <row>\n",
      "<sigun_nm>고양시</sigun_nm>\n",
      "<sigun_cd>41280</sigun_cd>\n",
      "<sum_yy>2018</sum_yy>\n",
      "<occur_cnt>3950</occur_cnt>\n",
      "<dprs_cnt>38</dprs_cnt>\n",
      "<injpsn_cnt>5889</injpsn_cnt>\n",
      "<data_std_de></data_std_de>\n",
      "</row>, <row>\n",
      "<sigun_nm>용인시</sigun_nm>\n",
      "<sigun_cd>41460</sigun_cd>\n",
      "<sum_yy>2018</sum_yy>\n",
      "<occur_cnt>3205</occur_cnt>\n",
      "<dprs_cnt>37</dprs_cnt>\n",
      "<injpsn_cnt>5116</injpsn_cnt>\n",
      "<data_std_de></data_std_de>\n",
      "</row>, <row>\n",
      "<sigun_nm>성남시</sigun_nm>\n",
      "<sigun_cd>41130</sigun_cd>\n",
      "<sum_yy>2018</sum_yy>\n",
      "<occur_cnt>3834</occur_cnt>\n",
      "<dprs_cnt>37</dprs_cnt>\n",
      "<injpsn_cnt>5635</injpsn_cnt>\n",
      "<data_std_de></data_std_de>\n",
      "</row>, <row>\n",
      "<sigun_nm>부천시</sigun_nm>\n",
      "<sigun_cd>41190</sigun_cd>\n",
      "<sum_yy>2018</sum_yy>\n",
      "<occur_cnt>3236</occur_cnt>\n",
      "<dprs_cnt>22</dprs_cnt>\n",
      "<injpsn_cnt>4550</injpsn_cnt>\n",
      "<data_std_de></data_std_de>\n",
      "</row>]\n"
     ]
    }
   ],
   "source": [
    "a = hdoc.find_all('row')\n",
    "print(a)"
   ]
  },
  {
   "cell_type": "code",
   "execution_count": 41,
   "id": "c57a9fa5-0f71-4033-92e1-91e821a7ba49",
   "metadata": {},
   "outputs": [
    {
     "name": "stdout",
     "output_type": "stream",
     "text": [
      "['수원시', '고양시', '용인시', '성남시', '부천시']\n",
      "['41110', '41280', '41460', '41130', '41190']\n"
     ]
    }
   ],
   "source": [
    "ls1 = []\n",
    "ls2 = []\n",
    "for i in a:\n",
    "    ls1.append(i.find('sigun_nm').get_text())\n",
    "    ls2.append(i.find('sigun_cd').get_text())\n",
    "print(ls1)\n",
    "print(ls2)"
   ]
  },
  {
   "cell_type": "code",
   "execution_count": 42,
   "id": "df842d91-da4f-495c-bb29-783a52302083",
   "metadata": {},
   "outputs": [],
   "source": [
    "import numpy as np"
   ]
  },
  {
   "cell_type": "code",
   "execution_count": 46,
   "id": "64eb2984-4dab-478b-8f79-e34fcd97b3e3",
   "metadata": {},
   "outputs": [],
   "source": [
    "a = np.array(ls1)\n",
    "# print(type(a))\n",
    "b = np.array(ls2)"
   ]
  },
  {
   "cell_type": "code",
   "execution_count": 50,
   "id": "25c3836b-e96d-4b37-9db7-e103d6a270d8",
   "metadata": {},
   "outputs": [
    {
     "data": {
      "image/png": "[encoded data removed]",
      "text/plain": [
       "<Figure size 432x288 with 1 Axes>"
      ]
     },
     "metadata": {
      "needs_background": "light"
     },
     "output_type": "display_data"
    },
    {
     "data": {
      "image/png": "[encoded data removed]",
      "text/plain": [
       "<Figure size 432x288 with 1 Axes>"
      ]
     },
     "metadata": {
      "needs_background": "light"
     },
     "output_type": "display_data"
    }
   ],
   "source": [
    "import matplotlib.pyplot as plt\n",
    "plt.bar(ls1, ls2)\n",
    "plt.show()\n",
    "plt.plot(ls1, ls2) # (행, 렬)\n",
    "plt.show()"
   ]
  }
 ],
 "metadata": {
  "kernelspec": {
   "display_name": "Python 3 (ipykernel)",
   "language": "python",
   "name": "python3"
  },
  "language_info": {
   "codemirror_mode": {
    "name": "ipython",
    "version": 3
   },
   "file_extension": ".py",
   "mimetype": "text/x-python",
   "name": "python",
   "nbconvert_exporter": "python",
   "pygments_lexer": "ipython3",
   "version": "3.9.7"
  }
 },
 "nbformat": 4,
 "nbformat_minor": 5
}
